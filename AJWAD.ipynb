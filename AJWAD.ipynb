{
  "nbformat": 4,
  "nbformat_minor": 0,
  "metadata": {
    "colab": {
      "provenance": []
    },
    "kernelspec": {
      "name": "python3",
      "display_name": "Python 3"
    },
    "language_info": {
      "name": "python"
    }
  },
  "cells": [
    {
      "cell_type": "code",
      "execution_count": 1,
      "metadata": {
        "colab": {
          "base_uri": "https://localhost:8080/"
        },
        "id": "JD6khR-vxo4i",
        "outputId": "dddab8fd-ba03-4ddf-deac-a1d5b59c89cb"
      },
      "outputs": [
        {
          "output_type": "stream",
          "name": "stdout",
          "text": [
            "Area of the circle: 314.1592653589793\n"
          ]
        }
      ],
      "source": [
        "#1  Write a Python program to find the area of a circle with a given radius using the formula area = pi * r ** 2. Assume that pi is 3.14.\n",
        "\n",
        "import math\n",
        "\n",
        "radius = 10\n",
        "\n",
        "area = math.pi * radius ** 2\n",
        "\n",
        "print(\"Area of the circle:\", area)"
      ]
    },
    {
      "cell_type": "code",
      "source": [
        "#2  Write a Python program to convert Celsius to Fahrenheit using the formula F = (C * 9/5) + 32\n",
        "\n",
        "import math\n",
        "\n",
        "celsius = float(input(\"Enter the temperature in Celsius: \"))\n",
        "\n",
        "fahrenheit = (celsius * 9/5) + 32\n",
        "\n",
        "print(\"The temperature in Fahrenheit is:\", fahrenheit)\n"
      ],
      "metadata": {
        "colab": {
          "base_uri": "https://localhost:8080/"
        },
        "id": "74uPBgEvxy8D",
        "outputId": "c8b9c47b-b209-4f25-b102-9321dbe197d3"
      },
      "execution_count": 2,
      "outputs": [
        {
          "output_type": "stream",
          "name": "stdout",
          "text": [
            "Enter the temperature in Celsius: 17\n",
            "The temperature in Fahrenheit is: 62.6\n"
          ]
        }
      ]
    },
    {
      "cell_type": "code",
      "source": [
        "#3 Write a Python program to find the quotient and remainder of two numbers using the division operator / and the modulo operator %\n",
        "\n",
        "\n",
        "a = int(input(\"Enter the first number: \"))\n",
        "b = int(input(\"Enter the second number: \"))\n",
        "\n",
        "quotient = a // b\n",
        "remainder = a % b\n",
        "\n",
        "print(\"The quotient is:\", quotient)\n",
        "print(\"The remainder is:\", remainder)"
      ],
      "metadata": {
        "colab": {
          "base_uri": "https://localhost:8080/"
        },
        "id": "nRmEQEHxx5sy",
        "outputId": "f67fd3da-7350-4a54-ea2a-8ae81c4038ca"
      },
      "execution_count": 3,
      "outputs": [
        {
          "output_type": "stream",
          "name": "stdout",
          "text": [
            "Enter the first number: 2\n",
            "Enter the second number: 3\n",
            "The quotient is: 0\n",
            "The remainder is: 2\n"
          ]
        }
      ]
    },
    {
      "cell_type": "code",
      "source": [
        "#4 Write a Python program to check whether a given number is even or odd using the modulo operator %\n",
        "\n",
        "\n",
        "num = int(input(\"Enter a number: \"))\n",
        "\n",
        "if num % 2 == 0:\n",
        "    print(\"The number is even.\")\n",
        "else:\n",
        "    print(\"The number is odd.\")"
      ],
      "metadata": {
        "colab": {
          "base_uri": "https://localhost:8080/"
        },
        "id": "iSDBS2l-x-wh",
        "outputId": "80473ada-e995-4442-8bcc-cf0d77f8a4d8"
      },
      "execution_count": 4,
      "outputs": [
        {
          "output_type": "stream",
          "name": "stdout",
          "text": [
            "Enter a number: 3\n",
            "The number is odd.\n"
          ]
        }
      ]
    },
    {
      "cell_type": "code",
      "source": [
        "#5 Write a Python program to calculate the average of three numbers entered by the user\n",
        "\n",
        "\n",
        "num1 = float(input(\"Enter the first number: \"))\n",
        "num2 = float(input(\"Enter the second number: \"))\n",
        "num3 = float(input(\"Enter the third number: \"))\n",
        "\n",
        "avg = (num1 + num2 + num3) / 3\n",
        "\n",
        "print(\"The average of the three numbers is:\", avg)\n"
      ],
      "metadata": {
        "colab": {
          "base_uri": "https://localhost:8080/"
        },
        "id": "utYPUlAGyHwx",
        "outputId": "18935a18-9c99-4edd-d78f-d7de019584e4"
      },
      "execution_count": 5,
      "outputs": [
        {
          "output_type": "stream",
          "name": "stdout",
          "text": [
            "Enter the first number: 4\n",
            "Enter the second number: 4\n",
            "Enter the third number: 1\n",
            "The average of the three numbers is: 3.0\n"
          ]
        }
      ]
    },
    {
      "cell_type": "code",
      "source": [
        "#6 Write a Python program to swap two variables without using a temporary variable\n",
        "\n",
        "x = 5\n",
        "y = 10\n",
        "\n",
        "x, y = y, x\n",
        "\n",
        "print(\"Value of x:\", x)\n",
        "print(\"Value of y:\", y)"
      ],
      "metadata": {
        "colab": {
          "base_uri": "https://localhost:8080/"
        },
        "id": "UTBRp6MQyOvf",
        "outputId": "86e620b7-fa41-4682-e955-f88e4709e683"
      },
      "execution_count": 6,
      "outputs": [
        {
          "output_type": "stream",
          "name": "stdout",
          "text": [
            "Value of x: 10\n",
            "Value of y: 5\n"
          ]
        }
      ]
    },
    {
      "cell_type": "code",
      "source": [
        "#7 Write a Python program to calculate the area of a rectangle with given length and breadth\n",
        "\n",
        "length = 10\n",
        "breadth = 5\n",
        "\n",
        "area = length * breadth\n",
        "\n",
        "print(\"Area of the rectangle:\", area)\n"
      ],
      "metadata": {
        "colab": {
          "base_uri": "https://localhost:8080/"
        },
        "id": "lRvAHtPlyP-I",
        "outputId": "e503d005-a1eb-496c-fc3b-92989c6c0c80"
      },
      "execution_count": 7,
      "outputs": [
        {
          "output_type": "stream",
          "name": "stdout",
          "text": [
            "Area of the rectangle: 50\n"
          ]
        }
      ]
    },
    {
      "cell_type": "code",
      "source": [
        "#8 Write a Python program to calculate the sum of the digits of a three-digit number\n",
        "\n",
        "\n",
        "num = int(input(\"Enter a three-digit number: \"))\n",
        "\n",
        "sum_of_digits = 0\n",
        "while num > 0:\n",
        "\n",
        "    digit = num % 10\n",
        "\n",
        "    sum_of_digits += digit\n",
        "\n",
        "    num //= 10\n",
        "\n",
        "print(\"The sum of the digits is:\", sum_of_digits)"
      ],
      "metadata": {
        "colab": {
          "base_uri": "https://localhost:8080/"
        },
        "id": "LfcGYJUbyZCZ",
        "outputId": "b319c6f6-6045-4e0a-9120-526e9d95b98e"
      },
      "execution_count": 8,
      "outputs": [
        {
          "output_type": "stream",
          "name": "stdout",
          "text": [
            "Enter a three-digit number: 456\n",
            "The sum of the digits is: 15\n"
          ]
        }
      ]
    },
    {
      "cell_type": "code",
      "source": [
        "#9 Write a Python program to calculate the sum of the digits of a three-digit number\n",
        "\n",
        "\n",
        "num = int(input(\"Enter a three-digit number: \"))\n",
        "\n",
        "sum_of_digits = 0\n",
        "while num > 0:\n",
        "\n",
        "    digit = num % 10\n",
        "\n",
        "    sum_of_digits += digit\n",
        "\n",
        "    num //= 10\n",
        "\n",
        "print(\"The sum of the digits is:\", sum_of_digits)"
      ],
      "metadata": {
        "colab": {
          "base_uri": "https://localhost:8080/"
        },
        "id": "zHuPS126yrVa",
        "outputId": "ca21f3c0-db5a-40e8-9cc6-2e1f8ab7f7cd"
      },
      "execution_count": 10,
      "outputs": [
        {
          "output_type": "stream",
          "name": "stdout",
          "text": [
            "Enter a three-digit number: 456\n",
            "The sum of the digits is: 15\n"
          ]
        }
      ]
    },
    {
      "cell_type": "code",
      "source": [
        "# prompt:10 Write a Python program to find the maximum and minimum of two numbers entered by the user\n",
        "\n",
        "\n",
        "num1 = float(input(\"Enter the first number: \"))\n",
        "num2 = float(input(\"Enter the second number: \"))\n",
        "\n",
        "if num1 > num2:\n",
        "    maximum = num1\n",
        "    minimum = num2\n",
        "else:\n",
        "    maximum = num2\n",
        "    minimum = num1\n",
        "\n",
        "print(\"The maximum of the two numbers is:\", maximum)\n",
        "print(\"The minimum of the two numbers is:\", minimum)"
      ],
      "metadata": {
        "colab": {
          "base_uri": "https://localhost:8080/"
        },
        "id": "KKyPEZ6Vy1as",
        "outputId": "3a4e00c7-5e7a-4bf1-99b1-772a3b4c9572"
      },
      "execution_count": 11,
      "outputs": [
        {
          "output_type": "stream",
          "name": "stdout",
          "text": [
            "Enter the first number: 4\n",
            "Enter the second number: 3\n",
            "The maximum of the two numbers is: 4.0\n",
            "The minimum of the two numbers is: 3.0\n"
          ]
        }
      ]
    }
  ]
}